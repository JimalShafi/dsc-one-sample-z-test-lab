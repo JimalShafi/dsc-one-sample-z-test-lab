{
 "cells": [
  {
   "cell_type": "markdown",
   "metadata": {},
   "source": [
    "# One-Sample z-test - Lab\n",
    "\n",
    "## Introduction\n",
    "In this lab, you'll perform a few quick tests to help you better understand how hypothesis testing works.\n",
    "\n",
    "## Objectives\n",
    "You will be able to:\n",
    "\n",
    "* Explain use cases for a 1-sample z-test\n",
    "* Set up null and alternative hypotheses\n",
    "* Use the z-table and scipy methods to acquire the p value for a given z-score\n",
    "* Calculate and interpret p-value for significance of results\n",
    "\n",
    "## Exercise 1\n",
    "A fast-food chain claims that the mean time to order food at their restaurants is 60 seconds, with a standard deviation of 30 seconds. You decide to put this claim to the test and go to one of the restaurants to observe actual waiting times. You take a sample of 36 customers and find that the mean order time was 75 seconds. Does this finding provide enough evidence to contradict the fast food chain's claim of fast service?\n",
    "\n",
    "Follow the 5 steps shown in previous lesson and use $\\alpha$ = 0.05. "
   ]
  },
  {
   "cell_type": "code",
   "execution_count": 6,
   "metadata": {},
   "outputs": [],
   "source": [
    "# State your null and alternative hypotheses\n",
    "# Null Hypothesis (H₀): The mean time to order food at the restaurant is 60 seconds.𝐻0:𝜇=60H 0:μ=60\n",
    "# Alternative Hypothesis (H₁): The mean time to order food at the restaurant is not 60 seconds (indicating it could be greater or less).𝐻1:𝜇≠60H 1:μ=60\n"
   ]
  },
  {
   "cell_type": "code",
   "execution_count": 1,
   "metadata": {},
   "outputs": [
    {
     "name": "stdout",
     "output_type": "stream",
     "text": [
      "z-score: 3.0\n",
      "p-value: 0.002699796063260207\n"
     ]
    }
   ],
   "source": [
    "# Your solution here\n",
    "import scipy.stats as stats\n",
    "import math\n",
    "\n",
    "# Given data\n",
    "mu = 60  # population mean claimed by the fast-food chain\n",
    "sigma = 30  # population standard deviation\n",
    "n = 36  # sample size\n",
    "x_bar = 75  # sample mean observed\n",
    "\n",
    "# Calculate the standard error of the mean (SEM)\n",
    "sem = sigma / math.sqrt(n)\n",
    "\n",
    "# Calculate the z-score\n",
    "z = (x_bar - mu) / sem\n",
    "\n",
    "# Calculate the p-value using cumulative distribution function (CDF)\n",
    "p_value = 2 * (1 - stats.norm.cdf(abs(z)))  # multiplying by 2 for two-tailed test\n",
    "\n",
    "print(\"z-score:\", z)\n",
    "print(\"p-value:\", p_value)\n",
    "\n",
    "\n",
    "# (p = 0.0013498980316301035, z = 3.0)"
   ]
  },
  {
   "cell_type": "code",
   "execution_count": 2,
   "metadata": {},
   "outputs": [],
   "source": [
    "# Interpret the results in terms of the p-value\n",
    "# The calculated p-value is approximately 0.0013.\n",
    "# This p-value suggests that there is a very low probability (about 0.13%) of observing a sample mean of 75 seconds or more extreme, if the true population mean order time is indeed 60 seconds (as claimed by the fast-food chain).\n"
   ]
  },
  {
   "cell_type": "markdown",
   "metadata": {},
   "source": [
    "## Exercise 2\n",
    "\n",
    "25 students complete a preparation program for taking the SAT test.  Here are the SAT scores from the 25 students who completed the program:\n",
    "\n",
    "``\n",
    "434 694 457 534 720 400 484 478 610 641 425 636 454 \n",
    "514 563 370 499 640 501 625 612 471 598 509 531\n",
    "``\n",
    "\n",
    "We know that the population average for SAT scores is 500 with a standard deviation of 100.\n",
    "\n",
    "Are our 25 students’ SAT scores significantly higher than the population's mean score? \n",
    "\n",
    "*Note that the SAT preparation program claims that it will increase (and not decrease) the SAT score.  So, you can conduct a one-directional test. (alpha = .05).*"
   ]
  },
  {
   "cell_type": "code",
   "execution_count": null,
   "metadata": {},
   "outputs": [],
   "source": [
    "# State your hypotheses \n",
    "# Null Hypothesis (H₀): The mean SAT score of the students who completed the program is equal to the population mean score of 500.𝐻0:𝜇=500H 0:μ=500\n",
    "\n",
    "# Alternative Hypothesis (H₁): The mean SAT score of the students who completed the program is greater than the population mean score of 500 (since the program claims to increase scores).𝐻1:𝜇>500H 1 :μ>500"
   ]
  },
  {
   "cell_type": "code",
   "execution_count": 3,
   "metadata": {},
   "outputs": [
    {
     "name": "stdout",
     "output_type": "stream",
     "text": [
      "z-score: 1.8\n",
      "p-value: 0.03593031911292577\n"
     ]
    }
   ],
   "source": [
    "# Give your solution here \n",
    "import numpy as np\n",
    "import scipy.stats as stats\n",
    "\n",
    "# Given data\n",
    "scores = np.array([434, 694, 457, 534, 720, 400, 484, 478, 610, 641,\n",
    "                   425, 636, 454, 514, 563, 370, 499, 640, 501,\n",
    "                   625, 612, 471, 598, 509, 531])\n",
    "mu = 500  # population mean\n",
    "sigma = 100  # population standard deviation\n",
    "n = len(scores)  # sample size\n",
    "alpha = 0.05  # significance level\n",
    "\n",
    "# Calculate sample mean\n",
    "x_bar = np.mean(scores)\n",
    "\n",
    "# Calculate the z-score\n",
    "z = (x_bar - mu) / (sigma / np.sqrt(n))\n",
    "\n",
    "# Calculate the p-value (one-tailed test)\n",
    "p_value = 1 - stats.norm.cdf(z)\n",
    "\n",
    "print(f\"z-score: {z}\")\n",
    "print(f\"p-value: {p_value}\")\n",
    "\n",
    "\n",
    "\n",
    "# p = 0.03593031911292577, z = 1.8"
   ]
  },
  {
   "cell_type": "code",
   "execution_count": 4,
   "metadata": {},
   "outputs": [],
   "source": [
    "# Interpret the results in terms of the p-value\n",
    "# Rejecting the null hypothesis means that there is sufficient evidence to conclude that the SAT scores of the 25 students who completed the preparation program are significantly higher than the population mean score of 500.\n",
    "# This finding supports the claim that the SAT preparation program has effectively increased the students' SAT scores, as the observed scores are statistically significantly higher than the population mean."
   ]
  },
  {
   "cell_type": "markdown",
   "metadata": {},
   "source": [
    "## Summary\n",
    "\n",
    "In this lesson, you conducted a couple of simple tests comparing sample and population means, in an attempt to reject our null hypotheses. This provides you with a strong foundation to move ahead with more advanced tests and approaches later on."
   ]
  }
 ],
 "metadata": {
  "kernelspec": {
   "display_name": "Python 3 (ipykernel)",
   "language": "python",
   "name": "python3"
  },
  "language_info": {
   "codemirror_mode": {
    "name": "ipython",
    "version": 3
   },
   "file_extension": ".py",
   "mimetype": "text/x-python",
   "name": "python",
   "nbconvert_exporter": "python",
   "pygments_lexer": "ipython3",
   "version": "3.8.16"
  },
  "toc": {
   "base_numbering": 1,
   "nav_menu": {},
   "number_sections": true,
   "sideBar": true,
   "skip_h1_title": false,
   "title_cell": "Table of Contents",
   "title_sidebar": "Contents",
   "toc_cell": false,
   "toc_position": {},
   "toc_section_display": true,
   "toc_window_display": false
  }
 },
 "nbformat": 4,
 "nbformat_minor": 4
}
